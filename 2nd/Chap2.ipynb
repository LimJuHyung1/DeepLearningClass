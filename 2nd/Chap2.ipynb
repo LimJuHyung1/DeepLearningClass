{
  "nbformat": 4,
  "nbformat_minor": 0,
  "metadata": {
    "colab": {
      "provenance": [],
      "authorship_tag": "ABX9TyPgIncy9HjSz+qELIHUaMx8",
      "include_colab_link": true
    },
    "kernelspec": {
      "name": "python3",
      "display_name": "Python 3"
    },
    "language_info": {
      "name": "python"
    }
  },
  "cells": [
    {
      "cell_type": "markdown",
      "metadata": {
        "id": "view-in-github",
        "colab_type": "text"
      },
      "source": [
        "<a href=\"https://colab.research.google.com/github/LimJuHyung1/DeepLearningClass/blob/main/Chap2.ipynb\" target=\"_parent\"><img src=\"https://colab.research.google.com/assets/colab-badge.svg\" alt=\"Open In Colab\"/></a>"
      ]
    },
    {
      "cell_type": "code",
      "execution_count": null,
      "metadata": {
        "id": "AZNgJVyEXTcC"
      },
      "outputs": [],
      "source": [
        "import pandas as pd\n",
        "import numpy as np\n",
        "import tensorflow as tf\n",
        "\n",
        "import matplotlib.pyplot as plt\n",
        "%matplotlib inline\n",
        "\n",
        "import seaborn as sns\n",
        "sns.set(style=\"darkgrid\")"
      ]
    },
    {
      "cell_type": "code",
      "source": [
        "from google.colab import files # 데이터 불러오기\n",
        "file_uploaded=files.upload()   # 데이터 불러오기\n",
        "cols = ['price', 'maint', 'doors', 'persons', 'lug_capacity', 'safety','output']\n",
        "cars = pd.read_csv('car_evaluation.csv', names=cols, header=None)"
      ],
      "metadata": {
        "colab": {
          "base_uri": "https://localhost:8080/",
          "height": 77
        },
        "id": "EOYR2aRUb668",
        "outputId": "049774df-1dc9-4f45-b81d-2298009b9675"
      },
      "execution_count": null,
      "outputs": [
        {
          "output_type": "display_data",
          "data": {
            "text/plain": [
              "<IPython.core.display.HTML object>"
            ],
            "text/html": [
              "\n",
              "     <input type=\"file\" id=\"files-cca627f4-a22b-43e5-8e16-d387180873cd\" name=\"files[]\" multiple disabled\n",
              "        style=\"border:none\" />\n",
              "     <output id=\"result-cca627f4-a22b-43e5-8e16-d387180873cd\">\n",
              "      Upload widget is only available when the cell has been executed in the\n",
              "      current browser session. Please rerun this cell to enable.\n",
              "      </output>\n",
              "      <script>// Copyright 2017 Google LLC\n",
              "//\n",
              "// Licensed under the Apache License, Version 2.0 (the \"License\");\n",
              "// you may not use this file except in compliance with the License.\n",
              "// You may obtain a copy of the License at\n",
              "//\n",
              "//      http://www.apache.org/licenses/LICENSE-2.0\n",
              "//\n",
              "// Unless required by applicable law or agreed to in writing, software\n",
              "// distributed under the License is distributed on an \"AS IS\" BASIS,\n",
              "// WITHOUT WARRANTIES OR CONDITIONS OF ANY KIND, either express or implied.\n",
              "// See the License for the specific language governing permissions and\n",
              "// limitations under the License.\n",
              "\n",
              "/**\n",
              " * @fileoverview Helpers for google.colab Python module.\n",
              " */\n",
              "(function(scope) {\n",
              "function span(text, styleAttributes = {}) {\n",
              "  const element = document.createElement('span');\n",
              "  element.textContent = text;\n",
              "  for (const key of Object.keys(styleAttributes)) {\n",
              "    element.style[key] = styleAttributes[key];\n",
              "  }\n",
              "  return element;\n",
              "}\n",
              "\n",
              "// Max number of bytes which will be uploaded at a time.\n",
              "const MAX_PAYLOAD_SIZE = 100 * 1024;\n",
              "\n",
              "function _uploadFiles(inputId, outputId) {\n",
              "  const steps = uploadFilesStep(inputId, outputId);\n",
              "  const outputElement = document.getElementById(outputId);\n",
              "  // Cache steps on the outputElement to make it available for the next call\n",
              "  // to uploadFilesContinue from Python.\n",
              "  outputElement.steps = steps;\n",
              "\n",
              "  return _uploadFilesContinue(outputId);\n",
              "}\n",
              "\n",
              "// This is roughly an async generator (not supported in the browser yet),\n",
              "// where there are multiple asynchronous steps and the Python side is going\n",
              "// to poll for completion of each step.\n",
              "// This uses a Promise to block the python side on completion of each step,\n",
              "// then passes the result of the previous step as the input to the next step.\n",
              "function _uploadFilesContinue(outputId) {\n",
              "  const outputElement = document.getElementById(outputId);\n",
              "  const steps = outputElement.steps;\n",
              "\n",
              "  const next = steps.next(outputElement.lastPromiseValue);\n",
              "  return Promise.resolve(next.value.promise).then((value) => {\n",
              "    // Cache the last promise value to make it available to the next\n",
              "    // step of the generator.\n",
              "    outputElement.lastPromiseValue = value;\n",
              "    return next.value.response;\n",
              "  });\n",
              "}\n",
              "\n",
              "/**\n",
              " * Generator function which is called between each async step of the upload\n",
              " * process.\n",
              " * @param {string} inputId Element ID of the input file picker element.\n",
              " * @param {string} outputId Element ID of the output display.\n",
              " * @return {!Iterable<!Object>} Iterable of next steps.\n",
              " */\n",
              "function* uploadFilesStep(inputId, outputId) {\n",
              "  const inputElement = document.getElementById(inputId);\n",
              "  inputElement.disabled = false;\n",
              "\n",
              "  const outputElement = document.getElementById(outputId);\n",
              "  outputElement.innerHTML = '';\n",
              "\n",
              "  const pickedPromise = new Promise((resolve) => {\n",
              "    inputElement.addEventListener('change', (e) => {\n",
              "      resolve(e.target.files);\n",
              "    });\n",
              "  });\n",
              "\n",
              "  const cancel = document.createElement('button');\n",
              "  inputElement.parentElement.appendChild(cancel);\n",
              "  cancel.textContent = 'Cancel upload';\n",
              "  const cancelPromise = new Promise((resolve) => {\n",
              "    cancel.onclick = () => {\n",
              "      resolve(null);\n",
              "    };\n",
              "  });\n",
              "\n",
              "  // Wait for the user to pick the files.\n",
              "  const files = yield {\n",
              "    promise: Promise.race([pickedPromise, cancelPromise]),\n",
              "    response: {\n",
              "      action: 'starting',\n",
              "    }\n",
              "  };\n",
              "\n",
              "  cancel.remove();\n",
              "\n",
              "  // Disable the input element since further picks are not allowed.\n",
              "  inputElement.disabled = true;\n",
              "\n",
              "  if (!files) {\n",
              "    return {\n",
              "      response: {\n",
              "        action: 'complete',\n",
              "      }\n",
              "    };\n",
              "  }\n",
              "\n",
              "  for (const file of files) {\n",
              "    const li = document.createElement('li');\n",
              "    li.append(span(file.name, {fontWeight: 'bold'}));\n",
              "    li.append(span(\n",
              "        `(${file.type || 'n/a'}) - ${file.size} bytes, ` +\n",
              "        `last modified: ${\n",
              "            file.lastModifiedDate ? file.lastModifiedDate.toLocaleDateString() :\n",
              "                                    'n/a'} - `));\n",
              "    const percent = span('0% done');\n",
              "    li.appendChild(percent);\n",
              "\n",
              "    outputElement.appendChild(li);\n",
              "\n",
              "    const fileDataPromise = new Promise((resolve) => {\n",
              "      const reader = new FileReader();\n",
              "      reader.onload = (e) => {\n",
              "        resolve(e.target.result);\n",
              "      };\n",
              "      reader.readAsArrayBuffer(file);\n",
              "    });\n",
              "    // Wait for the data to be ready.\n",
              "    let fileData = yield {\n",
              "      promise: fileDataPromise,\n",
              "      response: {\n",
              "        action: 'continue',\n",
              "      }\n",
              "    };\n",
              "\n",
              "    // Use a chunked sending to avoid message size limits. See b/62115660.\n",
              "    let position = 0;\n",
              "    do {\n",
              "      const length = Math.min(fileData.byteLength - position, MAX_PAYLOAD_SIZE);\n",
              "      const chunk = new Uint8Array(fileData, position, length);\n",
              "      position += length;\n",
              "\n",
              "      const base64 = btoa(String.fromCharCode.apply(null, chunk));\n",
              "      yield {\n",
              "        response: {\n",
              "          action: 'append',\n",
              "          file: file.name,\n",
              "          data: base64,\n",
              "        },\n",
              "      };\n",
              "\n",
              "      let percentDone = fileData.byteLength === 0 ?\n",
              "          100 :\n",
              "          Math.round((position / fileData.byteLength) * 100);\n",
              "      percent.textContent = `${percentDone}% done`;\n",
              "\n",
              "    } while (position < fileData.byteLength);\n",
              "  }\n",
              "\n",
              "  // All done.\n",
              "  yield {\n",
              "    response: {\n",
              "      action: 'complete',\n",
              "    }\n",
              "  };\n",
              "}\n",
              "\n",
              "scope.google = scope.google || {};\n",
              "scope.google.colab = scope.google.colab || {};\n",
              "scope.google.colab._files = {\n",
              "  _uploadFiles,\n",
              "  _uploadFilesContinue,\n",
              "};\n",
              "})(self);\n",
              "</script> "
            ]
          },
          "metadata": {}
        },
        {
          "output_type": "stream",
          "name": "stdout",
          "text": [
            "Saving car_evaluation.csv to car_evaluation.csv\n"
          ]
        }
      ]
    },
    {
      "cell_type": "code",
      "source": [
        "plot_size = plt.rcParams[\"figure.figsize\"]\n",
        "plot_size [0] = 8\n",
        "plot_size [1] = 6\n",
        "plt.rcParams[\"figure.figsize\"] = plot_size\n",
        "cars.output.value_counts().plot(kind='pie', autopct='%0.05f%%',\n",
        "                                colors=['lightblue', 'lightgreen', 'yellow', 'pink'],\n",
        "                                explode=(0.05, 0.05, 0.05,0.05))"
      ],
      "metadata": {
        "colab": {
          "base_uri": "https://localhost:8080/",
          "height": 517
        },
        "id": "Qo4mAOincTFr",
        "outputId": "38335a02-38e5-48a1-a795-9554d5b0efb7"
      },
      "execution_count": null,
      "outputs": [
        {
          "output_type": "execute_result",
          "data": {
            "text/plain": [
              "<Axes: ylabel='output'>"
            ]
          },
          "metadata": {},
          "execution_count": 16
        },
        {
          "output_type": "display_data",
          "data": {
            "text/plain": [
              "<Figure size 800x600 with 1 Axes>"
            ],
            "image/png": "[encoded data removed]"
          },
          "metadata": {}
        }
      ]
    },
    {
      "cell_type": "code",
      "source": [
        "price = pd.get_dummies(cars.price, prefix='price')\n",
        "maint = pd.get_dummies(cars.maint, prefix='maint')\n",
        "\n",
        "doors = pd.get_dummies(cars.doors, prefix='doors')\n",
        "persons = pd.get_dummies(cars.persons, prefix='persons')\n",
        "\n",
        "lug_capacity = pd.get_dummies(cars.lug_capacity, prefix='lug_capacity')\n",
        "safety = pd.get_dummies(cars.safety, prefix='safety')\n",
        "\n",
        "labels = pd.get_dummies(cars.output, prefix='condition')\n",
        "\n",
        "X = pd.concat([price, maint, doors, persons, lug_capacity, safety] , axis=1)\n",
        "y = labels.values"
      ],
      "metadata": {
        "id": "YXTS5KumdSvb"
      },
      "execution_count": null,
      "outputs": []
    },
    {
      "cell_type": "code",
      "source": [
        "from sklearn.model_selection import train_test_split\n",
        "X_train, X_test, y_train, y_test = train_test_split(X, y, test_size=0.20, random_state=42)"
      ],
      "metadata": {
        "id": "T3OXynJAdjkg"
      },
      "execution_count": null,
      "outputs": []
    },
    {
      "cell_type": "code",
      "source": [
        "from tensorflow.keras.layers import Input, Dense, Activation,Dropout\n",
        "from tensorflow.keras.models import Model\n",
        "\n",
        "input_layer = Input(shape=(X.shape[1],))\n",
        "dense_layer_1 = Dense(15, activation='relu')(input_layer)\n",
        "dense_layer_2 = Dense(10, activation='relu')(dense_layer_1)\n",
        "output = Dense(y.shape[1], activation='softmax')(dense_layer_2)\n",
        "\n",
        "model = Model(inputs=input_layer, outputs=output)\n",
        "model.compile(loss='categorical_crossentropy', optimizer='adam', metrics=['acc'])\n",
        "\n",
        "model.summary()"
      ],
      "metadata": {
        "colab": {
          "base_uri": "https://localhost:8080/"
        },
        "id": "eX4ggpRadnb_",
        "outputId": "b9b81dc7-3582-4ec9-c448-500c471a6927"
      },
      "execution_count": null,
      "outputs": [
        {
          "output_type": "stream",
          "name": "stdout",
          "text": [
            "Model: \"model\"\n",
            "_________________________________________________________________\n",
            " Layer (type)                Output Shape              Param #   \n",
            "=================================================================\n",
            " input_1 (InputLayer)        [(None, 21)]              0         \n",
            "                                                                 \n",
            " dense (Dense)               (None, 15)                330       \n",
            "                                                                 \n",
            " dense_1 (Dense)             (None, 10)                160       \n",
            "                                                                 \n",
            " dense_2 (Dense)             (None, 4)                 44        \n",
            "                                                                 \n",
            "=================================================================\n",
            "Total params: 534 (2.09 KB)\n",
            "Trainable params: 534 (2.09 KB)\n",
            "Non-trainable params: 0 (0.00 Byte)\n",
            "_________________________________________________________________\n"
          ]
        }
      ]
    },
    {
      "cell_type": "code",
      "source": [
        "history = model.fit(X_train, y_train, batch_size=8, epochs=50, verbose=1, validation_split=0.2)"
      ],
      "metadata": {
        "colab": {
          "base_uri": "https://localhost:8080/"
        },
        "id": "XNVDsd_5dx8w",
        "outputId": "0ac0bfc6-693c-4ebe-c14d-7887cf75fd30"
      },
      "execution_count": null,
      "outputs": [
        {
          "output_type": "stream",
          "name": "stdout",
          "text": [
            "Epoch 1/50\n",
            "139/139 [==============================] - 2s 4ms/step - loss: 1.1632 - acc: 0.5683 - val_loss: 0.9925 - val_acc: 0.6498\n",
            "Epoch 2/50\n",
            "139/139 [==============================] - 0s 3ms/step - loss: 0.7603 - acc: 0.7195 - val_loss: 0.8261 - val_acc: 0.6498\n",
            "Epoch 3/50\n",
            "139/139 [==============================] - 0s 3ms/step - loss: 0.6143 - acc: 0.7294 - val_loss: 0.6811 - val_acc: 0.6823\n",
            "Epoch 4/50\n",
            "139/139 [==============================] - 0s 2ms/step - loss: 0.4884 - acc: 0.7792 - val_loss: 0.5744 - val_acc: 0.7256\n",
            "Epoch 5/50\n",
            "139/139 [==============================] - 0s 3ms/step - loss: 0.3983 - acc: 0.8434 - val_loss: 0.4569 - val_acc: 0.8231\n",
            "Epoch 6/50\n",
            "139/139 [==============================] - 0s 3ms/step - loss: 0.3261 - acc: 0.8724 - val_loss: 0.3845 - val_acc: 0.8484\n",
            "Epoch 7/50\n",
            "139/139 [==============================] - 0s 3ms/step - loss: 0.2763 - acc: 0.8914 - val_loss: 0.3404 - val_acc: 0.8484\n",
            "Epoch 8/50\n",
            "139/139 [==============================] - 0s 2ms/step - loss: 0.2422 - acc: 0.8986 - val_loss: 0.3123 - val_acc: 0.8592\n",
            "Epoch 9/50\n",
            "139/139 [==============================] - 0s 2ms/step - loss: 0.2168 - acc: 0.9041 - val_loss: 0.2887 - val_acc: 0.8845\n",
            "Epoch 10/50\n",
            "139/139 [==============================] - 0s 3ms/step - loss: 0.1989 - acc: 0.9140 - val_loss: 0.2760 - val_acc: 0.8881\n",
            "Epoch 11/50\n",
            "139/139 [==============================] - 0s 3ms/step - loss: 0.1843 - acc: 0.9285 - val_loss: 0.2685 - val_acc: 0.8736\n",
            "Epoch 12/50\n",
            "139/139 [==============================] - 0s 2ms/step - loss: 0.1693 - acc: 0.9312 - val_loss: 0.2373 - val_acc: 0.9025\n",
            "Epoch 13/50\n",
            "139/139 [==============================] - 0s 2ms/step - loss: 0.1560 - acc: 0.9484 - val_loss: 0.2237 - val_acc: 0.8989\n",
            "Epoch 14/50\n",
            "139/139 [==============================] - 0s 2ms/step - loss: 0.1407 - acc: 0.9620 - val_loss: 0.2110 - val_acc: 0.9061\n",
            "Epoch 15/50\n",
            "139/139 [==============================] - 0s 2ms/step - loss: 0.1339 - acc: 0.9647 - val_loss: 0.1973 - val_acc: 0.9097\n",
            "Epoch 16/50\n",
            "139/139 [==============================] - 0s 3ms/step - loss: 0.1221 - acc: 0.9683 - val_loss: 0.1911 - val_acc: 0.9134\n",
            "Epoch 17/50\n",
            "139/139 [==============================] - 0s 3ms/step - loss: 0.1142 - acc: 0.9738 - val_loss: 0.1846 - val_acc: 0.9097\n",
            "Epoch 18/50\n",
            "139/139 [==============================] - 0s 2ms/step - loss: 0.1043 - acc: 0.9792 - val_loss: 0.1694 - val_acc: 0.9278\n",
            "Epoch 19/50\n",
            "139/139 [==============================] - 0s 2ms/step - loss: 0.0971 - acc: 0.9783 - val_loss: 0.1573 - val_acc: 0.9386\n",
            "Epoch 20/50\n",
            "139/139 [==============================] - 0s 2ms/step - loss: 0.0905 - acc: 0.9792 - val_loss: 0.1419 - val_acc: 0.9603\n",
            "Epoch 21/50\n",
            "139/139 [==============================] - 0s 2ms/step - loss: 0.0860 - acc: 0.9819 - val_loss: 0.1311 - val_acc: 0.9567\n",
            "Epoch 22/50\n",
            "139/139 [==============================] - 0s 3ms/step - loss: 0.0781 - acc: 0.9837 - val_loss: 0.1273 - val_acc: 0.9603\n",
            "Epoch 23/50\n",
            "139/139 [==============================] - 0s 3ms/step - loss: 0.0725 - acc: 0.9873 - val_loss: 0.1196 - val_acc: 0.9675\n",
            "Epoch 24/50\n",
            "139/139 [==============================] - 1s 4ms/step - loss: 0.0707 - acc: 0.9864 - val_loss: 0.1222 - val_acc: 0.9567\n",
            "Epoch 25/50\n",
            "139/139 [==============================] - 0s 3ms/step - loss: 0.0641 - acc: 0.9873 - val_loss: 0.1118 - val_acc: 0.9603\n",
            "Epoch 26/50\n",
            "139/139 [==============================] - 1s 4ms/step - loss: 0.0586 - acc: 0.9900 - val_loss: 0.1054 - val_acc: 0.9675\n",
            "Epoch 27/50\n",
            "139/139 [==============================] - 1s 4ms/step - loss: 0.0579 - acc: 0.9891 - val_loss: 0.1029 - val_acc: 0.9603\n",
            "Epoch 28/50\n",
            "139/139 [==============================] - 0s 3ms/step - loss: 0.0541 - acc: 0.9910 - val_loss: 0.0959 - val_acc: 0.9783\n",
            "Epoch 29/50\n",
            "139/139 [==============================] - 0s 2ms/step - loss: 0.0485 - acc: 0.9891 - val_loss: 0.0975 - val_acc: 0.9675\n",
            "Epoch 30/50\n",
            "139/139 [==============================] - 0s 3ms/step - loss: 0.0456 - acc: 0.9928 - val_loss: 0.0845 - val_acc: 0.9819\n",
            "Epoch 31/50\n",
            "139/139 [==============================] - 0s 3ms/step - loss: 0.0440 - acc: 0.9928 - val_loss: 0.0833 - val_acc: 0.9747\n",
            "Epoch 32/50\n",
            "139/139 [==============================] - 0s 2ms/step - loss: 0.0409 - acc: 0.9955 - val_loss: 0.0800 - val_acc: 0.9819\n",
            "Epoch 33/50\n",
            "139/139 [==============================] - 0s 2ms/step - loss: 0.0385 - acc: 0.9937 - val_loss: 0.0752 - val_acc: 0.9819\n",
            "Epoch 34/50\n",
            "139/139 [==============================] - 0s 2ms/step - loss: 0.0381 - acc: 0.9937 - val_loss: 0.0743 - val_acc: 0.9819\n",
            "Epoch 35/50\n",
            "139/139 [==============================] - 0s 3ms/step - loss: 0.0351 - acc: 0.9955 - val_loss: 0.0739 - val_acc: 0.9819\n",
            "Epoch 36/50\n",
            "139/139 [==============================] - 0s 3ms/step - loss: 0.0331 - acc: 0.9946 - val_loss: 0.0673 - val_acc: 0.9856\n",
            "Epoch 37/50\n",
            "139/139 [==============================] - 0s 2ms/step - loss: 0.0314 - acc: 0.9955 - val_loss: 0.0726 - val_acc: 0.9819\n",
            "Epoch 38/50\n",
            "139/139 [==============================] - 0s 3ms/step - loss: 0.0297 - acc: 0.9955 - val_loss: 0.0641 - val_acc: 0.9819\n",
            "Epoch 39/50\n",
            "139/139 [==============================] - 0s 2ms/step - loss: 0.0290 - acc: 0.9946 - val_loss: 0.0663 - val_acc: 0.9819\n",
            "Epoch 40/50\n",
            "139/139 [==============================] - 0s 2ms/step - loss: 0.0284 - acc: 0.9946 - val_loss: 0.0614 - val_acc: 0.9819\n",
            "Epoch 41/50\n",
            "139/139 [==============================] - 0s 2ms/step - loss: 0.0262 - acc: 0.9964 - val_loss: 0.0637 - val_acc: 0.9819\n",
            "Epoch 42/50\n",
            "139/139 [==============================] - 0s 2ms/step - loss: 0.0236 - acc: 0.9973 - val_loss: 0.0617 - val_acc: 0.9783\n",
            "Epoch 43/50\n",
            "139/139 [==============================] - 0s 3ms/step - loss: 0.0240 - acc: 0.9955 - val_loss: 0.0655 - val_acc: 0.9783\n",
            "Epoch 44/50\n",
            "139/139 [==============================] - 0s 2ms/step - loss: 0.0218 - acc: 0.9973 - val_loss: 0.0552 - val_acc: 0.9819\n",
            "Epoch 45/50\n",
            "139/139 [==============================] - 0s 2ms/step - loss: 0.0218 - acc: 0.9955 - val_loss: 0.0671 - val_acc: 0.9819\n",
            "Epoch 46/50\n",
            "139/139 [==============================] - 0s 3ms/step - loss: 0.0194 - acc: 0.9964 - val_loss: 0.0550 - val_acc: 0.9819\n",
            "Epoch 47/50\n",
            "139/139 [==============================] - 0s 2ms/step - loss: 0.0200 - acc: 0.9964 - val_loss: 0.0547 - val_acc: 0.9747\n",
            "Epoch 48/50\n",
            "139/139 [==============================] - 0s 4ms/step - loss: 0.0177 - acc: 0.9973 - val_loss: 0.0541 - val_acc: 0.9819\n",
            "Epoch 49/50\n",
            "139/139 [==============================] - 1s 4ms/step - loss: 0.0168 - acc: 0.9991 - val_loss: 0.0528 - val_acc: 0.9783\n",
            "Epoch 50/50\n",
            "139/139 [==============================] - 0s 3ms/step - loss: 0.0169 - acc: 0.9973 - val_loss: 0.0554 - val_acc: 0.9783\n"
          ]
        }
      ]
    },
    {
      "cell_type": "code",
      "source": [
        "score = model.evaluate(X_test, y_test, verbose=1)\n",
        "print(\"Test Score:\", score[0])\n",
        "print(\"Test Accuracy:\", score[1])"
      ],
      "metadata": {
        "colab": {
          "base_uri": "https://localhost:8080/"
        },
        "id": "TR4o1-GAd78v",
        "outputId": "9e2322ce-e035-444e-e2d3-52fda5a8196a"
      },
      "execution_count": null,
      "outputs": [
        {
          "output_type": "stream",
          "name": "stdout",
          "text": [
            "11/11 [==============================] - 0s 4ms/step - loss: 0.0629 - acc: 0.9769\n",
            "Test Score: 0.06288187950849533\n",
            "Test Accuracy: 0.9768785834312439\n"
          ]
        }
      ]
    }
  ]
}